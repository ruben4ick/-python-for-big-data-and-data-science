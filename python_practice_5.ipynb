{
 "nbformat": 4,
 "nbformat_minor": 0,
 "metadata": {
  "colab": {
   "provenance": []
  },
  "kernelspec": {
   "name": "python3",
   "display_name": "Python 3"
  },
  "language_info": {
   "name": "python"
  }
 },
 "cells": [
  {
   "cell_type": "markdown",
   "source": [
    "# I. OOP"
   ],
   "metadata": {
    "id": "5qV_sehzFCTp"
   }
  },
  {
   "cell_type": "markdown",
   "source": [
    "1. (6б). Створіть клас Animal, додайте три атрибути, один з яких має значення за замовчуванням та два методи на свій розсуд."
   ],
   "metadata": {
    "id": "tx_U_hOALyfg"
   }
  },
  {
   "cell_type": "code",
   "source": [
    "class Animal():\n",
    "  def __init__(self, sound, weight, age=1):\n",
    "    self.sound = sound\n",
    "    self.weight = weight\n",
    "    self.age = age\n",
    "\n",
    "  def make_sound(self):\n",
    "    return f\"{self.sound}\"\n",
    "\n",
    "  def eat(self, food):\n",
    "    return f\"eating {food}.\""
   ],
   "metadata": {
    "id": "-Vf895KaL88N"
   },
   "execution_count": 1,
   "outputs": []
  },
  {
   "cell_type": "markdown",
   "source": [
    "2. (2б). Створіть два обʼєкти цього класу, де один з обʼєктів створюється із дефолтним значенням атрибуту. На одному обʼєкті отримайте значення його атрибуту, а на іншому викличте один з його методів."
   ],
   "metadata": {
    "id": "X_UlOMB0L93w"
   }
  },
  {
   "cell_type": "code",
   "source": [
    "cow = Animal(\"Moo\", 220, 5)\n",
    "dog = Animal(\"Gav\", 30)\n",
    "\n",
    "print(dog.age)\n",
    "cow.make_sound()"
   ],
   "metadata": {
    "id": "7gBu0ESOMCpG",
    "colab": {
     "base_uri": "https://localhost:8080/",
     "height": 53
    },
    "outputId": "b53044a6-8fce-4ec6-aaa1-4a7ccb74603d"
   },
   "execution_count": 2,
   "outputs": [
    {
     "output_type": "stream",
     "name": "stdout",
     "text": [
      "1\n"
     ]
    },
    {
     "output_type": "execute_result",
     "data": {
      "text/plain": [
       "'Moo'"
      ],
      "application/vnd.google.colaboratory.intrinsic+json": {
       "type": "string"
      }
     },
     "metadata": {},
     "execution_count": 2
    }
   ]
  },
  {
   "cell_type": "markdown",
   "source": [
    "3. (5б). Створіть клас, де атрибути мають різні рівні доступу. Спробуйте отримати їхні значення та опишіть результати."
   ],
   "metadata": {
    "id": "HoqSCZt1MHn5"
   }
  },
  {
   "cell_type": "code",
   "source": [
    "class Car:\n",
    "  def __init__(self, owner, manufacturer, year):\n",
    "    self.owner = owner\n",
    "    self._manufacturer = manufacturer\n",
    "    self.__year = year\n",
    "\n",
    "\n",
    "car_example = Car(\"They\", \"BMW\", 2020)\n",
    "print(car_example.owner)\n",
    "print(car_example._manufacturer)\n",
    "print(car_example.__year)\n",
    "# public та protected можуть отримуватися, private не можуть"
   ],
   "metadata": {
    "id": "r9b3vJxBMSPV",
    "colab": {
     "base_uri": "https://localhost:8080/",
     "height": 228
    },
    "outputId": "e0714127-328f-4e83-e872-0e79794beafa"
   },
   "execution_count": 3,
   "outputs": [
    {
     "output_type": "stream",
     "name": "stdout",
     "text": [
      "They\n",
      "BMW\n"
     ]
    },
    {
     "output_type": "error",
     "ename": "AttributeError",
     "evalue": "'Car' object has no attribute '__year'",
     "traceback": [
      "\u001B[0;31m---------------------------------------------------------------------------\u001B[0m",
      "\u001B[0;31mAttributeError\u001B[0m                            Traceback (most recent call last)",
      "\u001B[0;32m<ipython-input-3-2a7d47368c3d>\u001B[0m in \u001B[0;36m<cell line: 11>\u001B[0;34m()\u001B[0m\n\u001B[1;32m      9\u001B[0m \u001B[0mprint\u001B[0m\u001B[0;34m(\u001B[0m\u001B[0mcar_example\u001B[0m\u001B[0;34m.\u001B[0m\u001B[0mowner\u001B[0m\u001B[0;34m)\u001B[0m\u001B[0;34m\u001B[0m\u001B[0;34m\u001B[0m\u001B[0m\n\u001B[1;32m     10\u001B[0m \u001B[0mprint\u001B[0m\u001B[0;34m(\u001B[0m\u001B[0mcar_example\u001B[0m\u001B[0;34m.\u001B[0m\u001B[0m_manufacturer\u001B[0m\u001B[0;34m)\u001B[0m\u001B[0;34m\u001B[0m\u001B[0;34m\u001B[0m\u001B[0m\n\u001B[0;32m---> 11\u001B[0;31m \u001B[0mprint\u001B[0m\u001B[0;34m(\u001B[0m\u001B[0mcar_example\u001B[0m\u001B[0;34m.\u001B[0m\u001B[0m__year\u001B[0m\u001B[0;34m)\u001B[0m\u001B[0;34m\u001B[0m\u001B[0;34m\u001B[0m\u001B[0m\n\u001B[0m\u001B[1;32m     12\u001B[0m \u001B[0;31m# public та protected можуть отримуватися, private не можуть\u001B[0m\u001B[0;34m\u001B[0m\u001B[0;34m\u001B[0m\u001B[0m\n",
      "\u001B[0;31mAttributeError\u001B[0m: 'Car' object has no attribute '__year'"
     ]
    }
   ]
  },
  {
   "cell_type": "markdown",
   "source": [
    "4. (7б). Як ви розумієте термін self? Для чого використовується метод __init __?"
   ],
   "metadata": {
    "id": "5op2m2vgMSkZ"
   }
  },
  {
   "cell_type": "markdown",
   "source": [
    "self використовується в Python для посилання на поточний об'єкт класу.\n",
    "\n",
    "__ init __ - це конструктор в python. Він використовується для ініціалізації об'єкта. У методі __ init __ можна задати атрибути об'єкта і початкові значення цих атрибутів."
   ],
   "metadata": {
    "id": "DyiPqNRvMasx"
   }
  },
  {
   "cell_type": "markdown",
   "source": [
    "5. (9б). Створіть клас Фігура без атрибутів, з методом get_area для отримання площі фігури, що повертає 0 та __add __, який приймає self та other в якості аргументів, а повертає суму площин фігур self та other."
   ],
   "metadata": {
    "id": "-6X8EGfjMd2y"
   }
  },
  {
   "cell_type": "code",
   "source": [
    "class Figure:\n",
    "  def get_area(self):\n",
    "    return 0\n",
    "\n",
    "  def __add__(self, other):\n",
    "    return self.get_area() + other.get_area()\n",
    "\n",
    "\n",
    "f1 = Figure()\n",
    "f2 = Figure()\n",
    "print(\"Sum:\", f1 + f2)"
   ],
   "metadata": {
    "id": "4rvO_wYUMaEr",
    "colab": {
     "base_uri": "https://localhost:8080/"
    },
    "outputId": "39aa431c-9875-4481-b6ab-d52ac7815fa5"
   },
   "execution_count": 5,
   "outputs": [
    {
     "output_type": "stream",
     "name": "stdout",
     "text": [
      "Sum: 0\n"
     ]
    }
   ]
  },
  {
   "cell_type": "markdown",
   "source": [
    "6. (11б). Створіть 2 дочірніх класи від Фігури: Трикутник та Коло, які мають атрибути, необхідні для розрахунку площин. Визначте метод get_area в кожному з них так, щоби вони розраховували площу в залежності від формули для кожного типу фігури. Створіть обʼєкт класу Трикутник та обʼєкт класу Коло. Виконайте операцію суми за допомогою оператора + між ними."
   ],
   "metadata": {
    "id": "SFcKnnv5Mo_z"
   }
  },
  {
   "cell_type": "code",
   "source": [
    "import math\n",
    "\n",
    "class Circle(Figure):\n",
    "  def __init__(self, radius):\n",
    "    self.radius = radius\n",
    "\n",
    "  def get_area(self):\n",
    "    return 3.14 * self.radius ** 2\n",
    "\n",
    "class Triangle(Figure):\n",
    "  def __init__(self, a, b, c):\n",
    "    self.a = a\n",
    "    self.b = b\n",
    "    self.c = c\n",
    "\n",
    "  def get_area(self):\n",
    "    p = (self.a + self.b + self.c) / 2\n",
    "    return math.sqrt(p * (p - self.a) * (p - self.b) * (p - self.c))\n",
    "\n",
    "\n",
    "triangle = Triangle(3, 4, 5)\n",
    "circle = Circle(10)\n",
    "print(\"triangle + circle:\", triangle + circle)"
   ],
   "metadata": {
    "id": "H3GVNr69Muf3",
    "colab": {
     "base_uri": "https://localhost:8080/"
    },
    "outputId": "e1664db6-5cad-488d-c994-d51fca509628"
   },
   "execution_count": 6,
   "outputs": [
    {
     "output_type": "stream",
     "name": "stdout",
     "text": [
      "triangle + circle: 320.0\n"
     ]
    }
   ]
  },
  {
   "cell_type": "markdown",
   "source": [
    "7. (3б). Продемонструйте різницю між isinstance та issubclass."
   ],
   "metadata": {
    "id": "HCvR206YMvLK"
   }
  },
  {
   "cell_type": "code",
   "source": [
    "class Parent:\n",
    "  pass\n",
    "\n",
    "class Child(Parent):\n",
    "  pass\n",
    "\n",
    "child_example = Child()\n",
    "parent_example = Parent()\n",
    "print(isinstance(child_example, Parent))   # True\n",
    "print(isinstance(child_example, Child)) # True\n",
    "print(isinstance(parent_example, Parent))   # True\n",
    "print(isinstance(parent_example, Child)) # False\n",
    "print(issubclass(Child, Parent)) # True\n",
    "print(issubclass(Parent, Child)) # False"
   ],
   "metadata": {
    "id": "L_V1bBvDM0GN",
    "colab": {
     "base_uri": "https://localhost:8080/"
    },
    "outputId": "a0b40fba-2560-40a1-c071-3cd97894cb18"
   },
   "execution_count": 7,
   "outputs": [
    {
     "output_type": "stream",
     "name": "stdout",
     "text": [
      "True\n",
      "True\n",
      "True\n",
      "False\n",
      "True\n",
      "False\n"
     ]
    }
   ]
  },
  {
   "cell_type": "markdown",
   "source": [
    "8. (13б). Створіть клас BankAccount з приватними атрибутами balance та account_number. Реалізуйте методи поповнення та зняття коштів, забезпечивши належну інкапсуляцію. Підказка: використовуйте декоратори property та setter."
   ],
   "metadata": {
    "id": "jjsaBZ-iM0Qq"
   }
  },
  {
   "cell_type": "code",
   "source": [
    "class BankAccount:\n",
    "  def __init__(self, account_number, balance):\n",
    "    self.__balance = balance\n",
    "    self.__account_number = account_number\n",
    "\n",
    "  @property\n",
    "  def balance(self):\n",
    "    return self.__balance\n",
    "\n",
    "  @property\n",
    "  def account_number(self):\n",
    "    return self.__account_number\n",
    "\n",
    "  @balance.setter\n",
    "  def balance(self, value):\n",
    "    self.__balance = value\n",
    "\n",
    "  def deposit(self, amount):\n",
    "    if amount <= 0:\n",
    "      return None\n",
    "    else:\n",
    "      self.balance += amount\n",
    "\n",
    "  def withdraw(self, amount):\n",
    "    subtruction = self.balance - amount\n",
    "    if subtruction < 0:\n",
    "      return None\n",
    "    else:\n",
    "      self.balance = subtruction\n",
    "      return amount\n",
    "\n",
    "\n",
    "account = BankAccount(1, 1200)\n",
    "account.deposit(100)\n",
    "print(f'AccNumber {account.account_number}, balance: {account.balance}')\n",
    "account.withdraw(200)\n",
    "print(f'AccNumber {account.account_number}, balance: {account.balance}')\n"
   ],
   "metadata": {
    "id": "xCvZ7lh8M7YA",
    "colab": {
     "base_uri": "https://localhost:8080/"
    },
    "outputId": "f815c85b-86d9-4db6-dbe8-62a8eabaadc8"
   },
   "execution_count": 8,
   "outputs": [
    {
     "output_type": "stream",
     "name": "stdout",
     "text": [
      "AccNumber 1, balance: 1300\n",
      "AccNumber 1, balance: 1100\n"
     ]
    }
   ]
  },
  {
   "cell_type": "markdown",
   "source": [
    "9. (11б). Створіть клас Library, який містить список об'єктів типу Book. Реалізуйте методи для додавання книги, видалення книги та відображення списку книг."
   ],
   "metadata": {
    "id": "tIzL2SJTM8ft"
   }
  },
  {
   "cell_type": "code",
   "source": [
    "class Book:\n",
    "  def __init__(self, title, author):\n",
    "    self.title = title\n",
    "    self.author = author\n",
    "\n",
    "\n",
    "class Library:\n",
    "  def __init__(self):\n",
    "    self.books = []\n",
    "\n",
    "  def add_book(self, title, author):\n",
    "    new_book = Book(title, author)\n",
    "    self.books.append(new_book)\n",
    "    print(f\"Книга '{title}' автора {author} додана до бібліотеки.\")\n",
    "\n",
    "  def remove_book(self, title):\n",
    "    for book in self.books:\n",
    "      if book.title == title:\n",
    "        self.books.remove(book)\n",
    "        print(f\"Книгу '{title}' було видалено з бібліотеки.\")\n",
    "        return\n",
    "    print(f\"Книгу з назвою '{title}' не знайдено в бібліотеці.\")\n",
    "\n",
    "  def display_books(self):\n",
    "    if not self.books:\n",
    "        print(\"У бібліотеці немає жодної книги.\")\n",
    "    else:\n",
    "        print(\"Список книг у бібліотеці:\")\n",
    "        for index, book in enumerate(self.books, start=1):\n",
    "          print(f\"{index}. '{book.title}' - {book.author}\")\n",
    "\n",
    "\n",
    "library = Library()\n",
    "library.display_books()\n",
    "library.add_book(\"Маленький принц\", \"Антуан де Сент-Екзюпері\")\n",
    "library.add_book(\"1984\", \"Джордж Орвелл\")\n",
    "library.display_books()\n",
    "library.remove_book(\"Маленький принц\")\n",
    "library.display_books()"
   ],
   "metadata": {
    "id": "HWxfJKLtNAUZ",
    "colab": {
     "base_uri": "https://localhost:8080/"
    },
    "outputId": "71c8f030-7c6e-4fdd-d8a6-fe382c963f9a"
   },
   "execution_count": 10,
   "outputs": [
    {
     "output_type": "stream",
     "name": "stdout",
     "text": [
      "У бібліотеці немає жодної книги.\n",
      "Книга 'Маленький принц' автора Антуан де Сент-Екзюпері додана до бібліотеки.\n",
      "Книга '1984' автора Джордж Орвелл додана до бібліотеки.\n",
      "Список книг у бібліотеці:\n",
      "1. 'Маленький принц' - Антуан де Сент-Екзюпері\n",
      "2. '1984' - Джордж Орвелл\n",
      "Книгу 'Маленький принц' було видалено з бібліотеки.\n",
      "Список книг у бібліотеці:\n",
      "1. '1984' - Джордж Орвелл\n"
     ]
    }
   ]
  },
  {
   "cell_type": "markdown",
   "source": [
    "10. (13б). Створіть клас Person з атрибутами name та age. Створіть ще один клас Employee з такими атрибутами, як department та salary. Створіть клас Manager, який успадковує обидва класи Person та Employee. Продемонструйте використання множинної спадковості, створивши обʼєкт класу Manager та отримавши mro для цього класу."
   ],
   "metadata": {
    "id": "lmV8pAwwNIqu"
   }
  },
  {
   "cell_type": "code",
   "source": [
    "class Person:\n",
    "  def __init__(self, name, age):\n",
    "    self.name = name\n",
    "    self.age = age\n",
    "\n",
    "\n",
    "class Employee:\n",
    "  def __init__(self, department, salary):\n",
    "    self.department = department\n",
    "    self.salary = salary\n",
    "\n",
    "\n",
    "class Manager(Person, Employee):\n",
    "  def __init__(self, name, age, department, salary):\n",
    "    Person.__init__(self, name, age)\n",
    "    Employee.__init__(self, department, salary)\n",
    "\n",
    "\n",
    "manager = Manager(\"Max\", 32, \"Developer\", 1500)\n",
    "print(Manager.mro())"
   ],
   "metadata": {
    "id": "R49grKlWNPeN",
    "colab": {
     "base_uri": "https://localhost:8080/"
    },
    "outputId": "5a9c2dd4-7020-4efa-e416-e5c01383c465"
   },
   "execution_count": 11,
   "outputs": [
    {
     "output_type": "stream",
     "name": "stdout",
     "text": [
      "[<class '__main__.Manager'>, <class '__main__.Person'>, <class '__main__.Employee'>, <class 'object'>]\n"
     ]
    }
   ]
  },
  {
   "cell_type": "markdown",
   "source": [
    "# II. Iterator"
   ],
   "metadata": {
    "id": "dIJyUiNBFG8G"
   }
  },
  {
   "cell_type": "markdown",
   "source": [
    "11. (4б). Визначте рядок(str) з 4ма різними за значенням символами. Створіть ітератор на основі цього рядка. Викличте 5 разів функцію next на ітераторі, 4ри перших з них огорніть у ф-цію print()."
   ],
   "metadata": {
    "id": "13vsm0NyKIzL"
   }
  },
  {
   "cell_type": "code",
   "source": [
    "my_str = \"abcd\"\n",
    "myit = iter(my_str)\n",
    "for _ in range(5):\n",
    "  if _ < 4:\n",
    "    print(next(myit))\n",
    "  else:\n",
    "    next(myit)"
   ],
   "metadata": {
    "id": "81ntabAkKuz-",
    "colab": {
     "base_uri": "https://localhost:8080/",
     "height": 245
    },
    "outputId": "7ee8c230-704f-423e-d36e-526154aaf14d"
   },
   "execution_count": 12,
   "outputs": [
    {
     "output_type": "stream",
     "name": "stdout",
     "text": [
      "a\n",
      "b\n",
      "c\n",
      "d\n"
     ]
    },
    {
     "output_type": "error",
     "ename": "StopIteration",
     "evalue": "",
     "traceback": [
      "\u001B[0;31m---------------------------------------------------------------------------\u001B[0m",
      "\u001B[0;31mStopIteration\u001B[0m                             Traceback (most recent call last)",
      "\u001B[0;32m<ipython-input-12-ec9a36bfbf7e>\u001B[0m in \u001B[0;36m<cell line: 3>\u001B[0;34m()\u001B[0m\n\u001B[1;32m      5\u001B[0m     \u001B[0mprint\u001B[0m\u001B[0;34m(\u001B[0m\u001B[0mnext\u001B[0m\u001B[0;34m(\u001B[0m\u001B[0mmyit\u001B[0m\u001B[0;34m)\u001B[0m\u001B[0;34m)\u001B[0m\u001B[0;34m\u001B[0m\u001B[0;34m\u001B[0m\u001B[0m\n\u001B[1;32m      6\u001B[0m   \u001B[0;32melse\u001B[0m\u001B[0;34m:\u001B[0m\u001B[0;34m\u001B[0m\u001B[0;34m\u001B[0m\u001B[0m\n\u001B[0;32m----> 7\u001B[0;31m     \u001B[0mnext\u001B[0m\u001B[0;34m(\u001B[0m\u001B[0mmyit\u001B[0m\u001B[0;34m)\u001B[0m\u001B[0;34m\u001B[0m\u001B[0;34m\u001B[0m\u001B[0m\n\u001B[0m",
      "\u001B[0;31mStopIteration\u001B[0m: "
     ]
    }
   ]
  },
  {
   "cell_type": "markdown",
   "source": [
    "А що якщо викликати цю ж функцію на рядку?"
   ],
   "metadata": {
    "id": "aekWHGXOLRsO"
   }
  },
  {
   "cell_type": "code",
   "source": [
    "print(next(my_str))"
   ],
   "metadata": {
    "id": "mxATGsErLV1i",
    "colab": {
     "base_uri": "https://localhost:8080/",
     "height": 141
    },
    "outputId": "e5c1fdeb-eba5-447e-d7db-98108538c919"
   },
   "execution_count": 13,
   "outputs": [
    {
     "output_type": "error",
     "ename": "TypeError",
     "evalue": "'str' object is not an iterator",
     "traceback": [
      "\u001B[0;31m---------------------------------------------------------------------------\u001B[0m",
      "\u001B[0;31mTypeError\u001B[0m                                 Traceback (most recent call last)",
      "\u001B[0;32m<ipython-input-13-902bfc19cfc5>\u001B[0m in \u001B[0;36m<cell line: 1>\u001B[0;34m()\u001B[0m\n\u001B[0;32m----> 1\u001B[0;31m \u001B[0mprint\u001B[0m\u001B[0;34m(\u001B[0m\u001B[0mnext\u001B[0m\u001B[0;34m(\u001B[0m\u001B[0mmy_str\u001B[0m\u001B[0;34m)\u001B[0m\u001B[0;34m)\u001B[0m\u001B[0;34m\u001B[0m\u001B[0;34m\u001B[0m\u001B[0m\n\u001B[0m",
      "\u001B[0;31mTypeError\u001B[0m: 'str' object is not an iterator"
     ]
    }
   ]
  },
  {
   "cell_type": "markdown",
   "source": [
    " 12. (5б). Опишіть своїми словами в одному реченні, як ви розумієте різницю між ітерабельними обʼєктами та ітераторами (можна на прикладі)."
   ],
   "metadata": {
    "id": "XwtMEopwJ4pH"
   }
  },
  {
   "cell_type": "markdown",
   "source": [
    "Ітератори - це об'єкти, які використовуються щоб ітеруватися по ітерабильних об'єктах."
   ],
   "metadata": {
    "id": "-sHrODc3KFn8"
   }
  },
  {
   "cell_type": "markdown",
   "source": [
    "13. (11б). Створіть клас, що має визначений Iterator Protocol та при кожному виклику next повертає літери англійської абетки, поки вони не вичерпаються."
   ],
   "metadata": {
    "id": "E9qJWmNbK8Gl"
   }
  },
  {
   "cell_type": "code",
   "source": [
    "class AlphabetIterator:\n",
    "  def __init__(self):\n",
    "    self.current_char = ord('a')\n",
    "\n",
    "  def __iter__(self):\n",
    "    return self\n",
    "\n",
    "  def __next__(self):\n",
    "    if self.current_char <= ord('z'):\n",
    "      char = chr(self.current_char)\n",
    "      self.current_char += 1\n",
    "      return char\n",
    "    else:\n",
    "      raise StopIteration\n",
    "\n",
    "alphabet_iter = AlphabetIterator()\n",
    "for char in alphabet_iter:\n",
    "    print(char)"
   ],
   "metadata": {
    "id": "cqx-g_RsLo6I",
    "colab": {
     "base_uri": "https://localhost:8080/"
    },
    "outputId": "0ad5ddfb-956a-4443-bf94-5d6aaf59fc7d"
   },
   "execution_count": 14,
   "outputs": [
    {
     "output_type": "stream",
     "name": "stdout",
     "text": [
      "a\n",
      "b\n",
      "c\n",
      "d\n",
      "e\n",
      "f\n",
      "g\n",
      "h\n",
      "i\n",
      "j\n",
      "k\n",
      "l\n",
      "m\n",
      "n\n",
      "o\n",
      "p\n",
      "q\n",
      "r\n",
      "s\n",
      "t\n",
      "u\n",
      "v\n",
      "w\n",
      "x\n",
      "y\n",
      "z\n"
     ]
    }
   ]
  },
  {
   "cell_type": "markdown",
   "source": [
    "# Вітаю! Ви велика(ий) молодець, що впоралась(вся). Похваліть себе та побалуйте чимось приємним. Я Вами пишаюся."
   ],
   "metadata": {
    "id": "Z3E3S_s1Fv7-"
   }
  }
 ]
}
